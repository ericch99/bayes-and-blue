{
  "nbformat": 4,
  "nbformat_minor": 0,
  "metadata": {
    "colab": {
      "name": "similarity_score.ipynb",
      "provenance": [],
      "collapsed_sections": [
        "F7xoBTiP2s5o"
      ]
    },
    "kernelspec": {
      "name": "python3",
      "display_name": "Python 3"
    },
    "accelerator": "GPU"
  },
  "cells": [
    {
      "cell_type": "code",
      "metadata": {
        "id": "RJCZGQe1wAI7",
        "colab": {
          "base_uri": "https://localhost:8080/"
        },
        "outputId": "a00b9245-9ff3-4f28-98c6-181f2349f611"
      },
      "source": [
        "import numpy as np\n",
        "import cv2\n",
        "import glob\n",
        "import math\n",
        "from tqdm import tqdm\n",
        "!pip install -q tensorlayer\n",
        "import tensorlayer as tl\n",
        "import tensorflow as tf"
      ],
      "execution_count": 6,
      "outputs": [
        {
          "output_type": "stream",
          "text": [
            "\u001b[K     |████████████████████████████████| 368kB 9.2MB/s \n",
            "\u001b[K     |████████████████████████████████| 3.3MB 13.1MB/s \n",
            "\u001b[31mERROR: albumentations 0.1.12 has requirement imgaug<0.2.7,>=0.2.5, but you'll have imgaug 0.2.9 which is incompatible.\u001b[0m\n",
            "\u001b[?25h"
          ],
          "name": "stdout"
        }
      ]
    },
    {
      "cell_type": "code",
      "metadata": {
        "colab": {
          "base_uri": "https://localhost:8080/"
        },
        "id": "xFNkgmxGwVbf",
        "outputId": "a333cb8c-5ac6-4472-948e-adca7e183ac2"
      },
      "source": [
        "from google.colab import drive\n",
        "drive.mount('/content/drive')\n"
      ],
      "execution_count": 2,
      "outputs": [
        {
          "output_type": "stream",
          "text": [
            "Mounted at /content/drive\n"
          ],
          "name": "stdout"
        }
      ]
    },
    {
      "cell_type": "code",
      "metadata": {
        "colab": {
          "base_uri": "https://localhost:8080/"
        },
        "id": "3YYqvU9AxyJO",
        "outputId": "3731584c-65ed-4332-c751-dfcc6af95469"
      },
      "source": [
        "import os\n",
        "base_dir = '3rd College/ProjectX 2020/Temporal SR/eval/'\n",
        "base_dir = os.path.join('drive', 'My Drive', base_dir)\n",
        "print(os.listdir(base_dir))"
      ],
      "execution_count": 3,
      "outputs": [
        {
          "output_type": "stream",
          "text": [
            "['img_orig', 'img_superslomo', 'videos_half', 'videos_superslomo', 'videos_orig', 'img_bilinear', 'img_half']\n"
          ],
          "name": "stdout"
        }
      ]
    },
    {
      "cell_type": "code",
      "metadata": {
        "colab": {
          "base_uri": "https://localhost:8080/"
        },
        "id": "xagY9gpxxzOS",
        "outputId": "4cf7c0ed-f77e-4239-c2cf-f61301af33f5"
      },
      "source": [
        "'''FETCH LIST OF IMAGES'''\n",
        "base_dir = '/content/drive/MyDrive/3rd College/ProjectX 2020/Temporal SR/eval/'\n",
        "gt_dir = ['img_orig/1979/1/*'] #, 'img_orig/1979/2/*', 'img_orig/1979/3/*']\n",
        "bi_dir = ['img_bilinear/1979/1/*'] #,'img_bilinear/1979/2/*', 'img_bilinear/1979/3/*']\n",
        "sl_dir = ['img_superslomo/1979/1_2year/*'] #,'img_superslomo/1979/1_3year/*','img_superslomo/1979/1_3year/*']\n",
        "\n",
        "gt_imgs = []\n",
        "for dir in gt_dir:\n",
        "  gt_imgs.extend(glob.glob(base_dir + dir))\n",
        "gt = []\n",
        "print('gt images:', len(gt_imgs))\n",
        "for img in gt_imgs:\n",
        "  gt.append(cv2.imread(img))\n",
        "\n",
        "bi_imgs = []\n",
        "for dir in bi_dir:\n",
        "  bi_imgs.extend(glob.glob(base_dir + dir))\n",
        "bi = []\n",
        "print('bi images:', len(bi_imgs))\n",
        "for img in bi_imgs:\n",
        "  bi.append(cv2.imread(img))\n",
        "\n",
        "sl_imgs = []\n",
        "for dir in sl_dir:\n",
        "  sl_imgs.extend(glob.glob(base_dir + dir))\n",
        "sl = []\n",
        "print('sl images:', len(sl_imgs))\n",
        "for img in sl_imgs:\n",
        "  sl.append(cv2.imread(img))"
      ],
      "execution_count": 27,
      "outputs": [
        {
          "output_type": "stream",
          "text": [
            "gt images: 80\n",
            "bi images: 79\n",
            "sl images: 78\n"
          ],
          "name": "stdout"
        }
      ]
    },
    {
      "cell_type": "markdown",
      "metadata": {
        "id": "F7xoBTiP2s5o"
      },
      "source": [
        "#### hidden functions"
      ]
    },
    {
      "cell_type": "code",
      "metadata": {
        "id": "g2gkvP2O1xNH"
      },
      "source": [
        "'''COMPUTE SIM SCORES'''\n",
        "def ssim(img1, img2):\n",
        "    C1 = (0.01 * 255)**2\n",
        "    C2 = (0.03 * 255)**2\n",
        "\n",
        "    img1 = img1.astype(np.float64)\n",
        "    img2 = img2.astype(np.float64)\n",
        "    kernel = cv2.getGaussianKernel(11, 1.5)\n",
        "    window = np.outer(kernel, kernel.transpose())\n",
        "\n",
        "    mu1 = cv2.filter2D(img1, -1, window)[5:-5, 5:-5]  # valid\n",
        "    mu2 = cv2.filter2D(img2, -1, window)[5:-5, 5:-5]\n",
        "    mu1_sq = mu1**2\n",
        "    mu2_sq = mu2**2\n",
        "    mu1_mu2 = mu1 * mu2\n",
        "    sigma1_sq = cv2.filter2D(img1**2, -1, window)[5:-5, 5:-5] - mu1_sq\n",
        "    sigma2_sq = cv2.filter2D(img2**2, -1, window)[5:-5, 5:-5] - mu2_sq\n",
        "    sigma12 = cv2.filter2D(img1 * img2, -1, window)[5:-5, 5:-5] - mu1_mu2\n",
        "\n",
        "    ssim_map = ((2 * mu1_mu2 + C1) * (2 * sigma12 + C2)) / ((mu1_sq + mu2_sq + C1) *\n",
        "                                                            (sigma1_sq + sigma2_sq + C2))\n",
        "    return ssim_map.mean()\n",
        "\n",
        "\n",
        "def calculate_ssim(img1, img2):\n",
        "    '''calculate SSIM\n",
        "    the same outputs as MATLAB's\n",
        "    img1, img2: [0, 255]\n",
        "    '''\n",
        "    if not img1.shape == img2.shape:\n",
        "        raise ValueError('Input images must have the same dimensions.')\n",
        "    if img1.ndim == 2:\n",
        "        return ssim(img1, img2)\n",
        "    elif img1.ndim == 3:\n",
        "        if img1.shape[2] == 3:\n",
        "            ssims = []\n",
        "            for i in range(3):\n",
        "                ssims.append(ssim(img1, img2))\n",
        "            return np.array(ssims).mean()\n",
        "        elif img1.shape[2] == 1:\n",
        "            return ssim(np.squeeze(img1), np.squeeze(img2))\n",
        "    else:\n",
        "        raise ValueError('Wrong input image dimensions.')\n",
        "\n",
        "def calculate_psnr(img1, img2):\n",
        "    # img1 and img2 have range [0, 255]\n",
        "    img1 = img1.astype(np.float64)\n",
        "    img2 = img2.astype(np.float64)\n",
        "    mse = np.mean((img1 - img2)**2)\n",
        "    if mse == 0:\n",
        "        return float('inf')\n",
        "    return 20 * math.log10(255.0 / math.sqrt(mse))"
      ],
      "execution_count": null,
      "outputs": []
    },
    {
      "cell_type": "markdown",
      "metadata": {
        "id": "UCwPt6GT26al"
      },
      "source": [
        "#### Compute"
      ]
    },
    {
      "cell_type": "code",
      "metadata": {
        "colab": {
          "base_uri": "https://localhost:8080/"
        },
        "id": "4lVIozAc25xx",
        "outputId": "a762362f-3511-41ce-a021-738fc03722f4"
      },
      "source": [
        "'''Compute scores'''\n",
        "\n",
        "bi_psnr = []\n",
        "bi_ssim = []\n",
        "sl_psnr = []\n",
        "sl_ssim = []\n",
        "for i in tqdm(range(len(sl_imgs))):\n",
        "\n",
        "  original = tf.convert_to_tensor(gt[i], dtype=tf.float32)\n",
        "  bilinear = tf.convert_to_tensor(bi[i], dtype=tf.float32)\n",
        "  slomo = tf.convert_to_tensor(sl[i], dtype=tf.float32)\n",
        "\n",
        "  max = tf.reduce_max(slomo)\n",
        "\n",
        "\n",
        "  maxes = np.array([255, 255, 255]);\n",
        "  mins = np.array([0, 0, 0]);\n",
        "  original  = tf.divide(tf.subtract(original, mins), tf.cast(tf.subtract(maxes, mins), tf.float32));\n",
        "  bilinear  = tf.divide(tf.subtract(bilinear, mins), tf.cast(tf.subtract(maxes, mins), tf.float32));\n",
        "  slomo  = tf.divide(tf.subtract(slomo, mins), tf.cast(tf.subtract(maxes, mins), tf.float32));\n",
        "\n",
        "  bi_psnr.append(tf.image.psnr(original, bilinear, 1.0))\n",
        "  bi_ssim.append(tf.image.ssim(original, bilinear, 1.0))\n",
        "  sl_psnr.append(tf.image.psnr(original, slomo, 1.0))\n",
        "  sl_ssim.append(tf.image.ssim(original, slomo, 1.0))\n",
        "\n",
        "\n",
        "print(np.mean(np.array(bi_ssim)))\n",
        "print(np.mean(np.array(sl_ssim)))"
      ],
      "execution_count": 28,
      "outputs": [
        {
          "output_type": "stream",
          "text": [
            "100%|██████████| 78/78 [00:02<00:00, 27.85it/s]"
          ],
          "name": "stderr"
        },
        {
          "output_type": "stream",
          "text": [
            "0.91805637\n",
            "0.9511064\n"
          ],
          "name": "stdout"
        },
        {
          "output_type": "stream",
          "text": [
            "\n"
          ],
          "name": "stderr"
        }
      ]
    },
    {
      "cell_type": "code",
      "metadata": {
        "colab": {
          "base_uri": "https://localhost:8080/"
        },
        "id": "T9XaeIaW231U",
        "outputId": "1815e37b-f226-4fe6-ba38-53bbc1acc867"
      },
      "source": [
        "print('bilinear ssim', np.mean(np.array(bi_ssim)))\n",
        "bi_psnr = np.array(bi_psnr)\n",
        "bi_psnr = np.clip(bi_psnr, 0, 100)\n",
        "print('bilinear psnr', np.mean(np.array(bi_psnr)))\n",
        "print('superslomo ssim', np.mean(np.array(sl_ssim)))\n",
        "print('superslomo psnr', np.mean(np.array(sl_psnr)))"
      ],
      "execution_count": 29,
      "outputs": [
        {
          "output_type": "stream",
          "text": [
            "bilinear ssim 0.91805637\n",
            "bilinear psnr 20.042055\n",
            "superslomo ssim 0.9511064\n",
            "superslomo psnr 26.070486\n"
          ],
          "name": "stdout"
        }
      ]
    },
    {
      "cell_type": "code",
      "metadata": {
        "colab": {
          "base_uri": "https://localhost:8080/"
        },
        "id": "lJVs95rQJNH5",
        "outputId": "05b44930-bfcb-4998-e704-0d2d76bc37b3"
      },
      "source": [
        "VGG = tl.models.VGG16(pretrained = True, end_with = 'conv2_1')\n",
        "VGG.train()"
      ],
      "execution_count": 9,
      "outputs": [
        {
          "output_type": "stream",
          "text": [
            "[TL] Conv2d conv1_1: n_filter: 64 filter_size: (3, 3) strides: (1, 1) pad: SAME act: relu\n",
            "[TL] Conv2d conv1_2: n_filter: 64 filter_size: (3, 3) strides: (1, 1) pad: SAME act: relu\n",
            "[TL] MaxPool2d pool1: filter_size: (2, 2) strides: (2, 2) padding: SAME\n",
            "[TL] Conv2d conv2_1: n_filter: 128 filter_size: (3, 3) strides: (1, 1) pad: SAME act: relu\n",
            "[TL] LayerList layerlist_1 including layers [conv1_1, conv1_2, pool1, conv2_1]\n",
            "[TL] Restore pre-trained weights\n",
            "[TL] Downloading vgg16_weights.npz...\n",
            "\n"
          ],
          "name": "stdout"
        },
        {
          "output_type": "stream",
          "text": [
            " 99% (67513 of 67559) |################# | Elapsed Time: 0:01:22 ETA:   0:00:00"
          ],
          "name": "stderr"
        },
        {
          "output_type": "stream",
          "text": [
            "[TL]   Loading weights (3, 3, 3, 64) in conv1_1_W\n",
            "[TL]   Loading weights (64,) in conv1_1_b\n",
            "[TL]   Loading weights (3, 3, 64, 64) in conv1_2_W\n",
            "[TL]   Loading weights (64,) in conv1_2_b\n",
            "[TL]   Loading weights (3, 3, 64, 128) in conv2_1_W\n",
            "[TL]   Loading weights (128,) in conv2_1_b\n"
          ],
          "name": "stdout"
        }
      ]
    },
    {
      "cell_type": "code",
      "metadata": {
        "colab": {
          "base_uri": "https://localhost:8080/"
        },
        "id": "DFGQ7rbTJWZq",
        "outputId": "e16dfedd-40ad-4d1a-e286-10aee09a182e"
      },
      "source": [
        "'''Compute scores'''\n",
        "from sklearn.metrics import mean_squared_error\n",
        "bi_vgg = []\n",
        "sl_vgg = []\n",
        "epoch = 0\n",
        "for i in tqdm(range(len(sl_imgs))):\n",
        "  original = tf.convert_to_tensor(gt[i], dtype=tf.float32)\n",
        "  bilinear = tf.convert_to_tensor(bi[i], dtype=tf.float32)\n",
        "  slomo = tf.convert_to_tensor(sl[i], dtype=tf.float32)\n",
        "\n",
        "  maxes = np.array([255, 255, 255]);\n",
        "  mins = np.array([0, 0, 0]);\n",
        "  original  = tf.divide(tf.subtract(original, mins), tf.cast(tf.subtract(maxes, mins), tf.float32));\n",
        "  bilinear  = tf.divide(tf.subtract(bilinear, mins), tf.cast(tf.subtract(maxes, mins), tf.float32));\n",
        "  slomo  = tf.divide(tf.subtract(slomo, mins), tf.cast(tf.subtract(maxes, mins), tf.float32));\n",
        "\n",
        "\n",
        "  bi_vgg.append(tl.cost.mean_squared_error(VGG(original), VGG(bilinear), is_mean=True))\n",
        "  sl_vgg.append(tl.cost.mean_squared_error(VGG(original), VGG(slomo), is_mean=True))\n",
        "  # print(tl.cost.mean_squared_error(VGG(original), VGG(slomo)))\n",
        "  \n",
        "  epoch += 1\n",
        "  # if epoch > 10:\n",
        "  #   break\n",
        "\n",
        "\n",
        "print(np.mean(np.array(bi_vgg)))\n",
        "print(np.mean(np.array(sl_vgg)))"
      ],
      "execution_count": 30,
      "outputs": [
        {
          "output_type": "stream",
          "text": [
            "100%|██████████| 78/78 [00:14<00:00,  5.37it/s]\n"
          ],
          "name": "stderr"
        },
        {
          "output_type": "stream",
          "text": [
            "2375.5513\n",
            "1258.6643\n"
          ],
          "name": "stdout"
        }
      ]
    },
    {
      "cell_type": "code",
      "metadata": {
        "colab": {
          "base_uri": "https://localhost:8080/"
        },
        "id": "tGEQRWHUQHyn",
        "outputId": "587b9cca-4b14-425a-83b3-7d8358cbcd0c"
      },
      "source": [
        "print(bi_vgg)"
      ],
      "execution_count": null,
      "outputs": [
        {
          "output_type": "stream",
          "text": [
            "[<tf.Tensor: shape=(), dtype=float32, numpy=0.0>, <tf.Tensor: shape=(), dtype=float32, numpy=9.457306>, <tf.Tensor: shape=(), dtype=float32, numpy=18.367828>, <tf.Tensor: shape=(), dtype=float32, numpy=35.069893>, <tf.Tensor: shape=(), dtype=float32, numpy=40.622612>, <tf.Tensor: shape=(), dtype=float32, numpy=55.448387>, <tf.Tensor: shape=(), dtype=float32, numpy=63.800945>, <tf.Tensor: shape=(), dtype=float32, numpy=52.365757>, <tf.Tensor: shape=(), dtype=float32, numpy=63.938023>, <tf.Tensor: shape=(), dtype=float32, numpy=74.23571>, <tf.Tensor: shape=(), dtype=float32, numpy=72.97422>]\n"
          ],
          "name": "stdout"
        }
      ]
    }
  ]
}